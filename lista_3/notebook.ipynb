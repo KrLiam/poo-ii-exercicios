{
 "cells": [
  {
   "cell_type": "markdown",
   "metadata": {},
   "source": [
    "# <center> Lista 3"
   ]
  },
  {
   "cell_type": "markdown",
   "metadata": {},
   "source": [
    "**Exercício 1**: Escreva uma função que conta a frequência de ocorrência de cada                         \n",
    "palavra em um texto (arquivo txt) e armazena tal quantidade em um dicionário, onde a                             \n",
    "chave é a vogal considerada."
   ]
  },
  {
   "cell_type": "code",
   "execution_count": null,
   "metadata": {},
   "outputs": [],
   "source": [
    "with open(\"arquivo.txt\"  \"r\") as f:\n",
    "    txt = f.read()\n",
    "\n",
    "txt = str(ch for ch in txt if ch.isalpha() or ch == \"-\")\n",
    "words = txt.split(\" \")\n",
    "\n",
    "count = {}\n",
    "for word in words:\n",
    "    count[word] = count.get(word, 0) + 1"
   ]
  },
  {
   "cell_type": "markdown",
   "metadata": {},
   "source": [
    "**Exercício 3:** Escreva um programa que lê duas notas de vários alunos e armazena tais                             \n",
    "notas em um dicionário, onde a chave é o nome do aluno. A entrada de dados deve                                 \n",
    "terminar quando for lida uma string vazia como nome. Escreva uma função que retorna                           \n",
    "a média do aluno, dado seu nome."
   ]
  },
  {
   "cell_type": "code",
   "execution_count": 6,
   "metadata": {},
   "outputs": [
    {
     "name": "stdout",
     "output_type": "stream",
     "text": [
      "> joão gabriel 4.5 9\n",
      "> flavinho do pneu 7 9.5\n",
      "> valdene correa 4 8\n",
      "> valdene\n",
      "O aluno \"valdene\" não foi encontrado.\n",
      "> valdene correa\n",
      "Aluno: valdene correa\n",
      "Notas: 4.0, 8.0\n",
      "Média: 6.00\n",
      "> flavinho do pneu\n",
      "Aluno: flavinho do pneu\n",
      "Notas: 7.0, 9.5\n",
      "Média: 8.25\n",
      "> joão gabrie\n",
      "O aluno \"joão gabrie\" não foi encontrado.\n",
      "> joão gabriel\n",
      "Aluno: joão gabriel\n",
      "Notas: 4.5, 9.0\n",
      "Média: 6.75\n"
     ]
    }
   ],
   "source": [
    "notas = {}\n",
    "\n",
    "while True:\n",
    "    entrada = input(\"Digite nome do aluno e duas notas: \")\n",
    "    entrada = entrada.strip()\n",
    "\n",
    "    if not len(entrada):\n",
    "        break\n",
    "\n",
    "    print(\">\", entrada)\n",
    "\n",
    "    resto, _, nota_b = entrada.rpartition(\" \")\n",
    "    nome, _, nota_a = resto.rpartition(\" \")\n",
    "\n",
    "    try:\n",
    "        nota_a = float(nota_a)\n",
    "        nota_b = float(nota_b)\n",
    "    except ValueError:\n",
    "        print(\"Insira um valor válido.\")\n",
    "        continue\n",
    "\n",
    "    notas[nome] = (nota_a, nota_b)\n",
    "\n",
    "while True:\n",
    "    nome = input(\"Insira o nome do aluno: \")\n",
    "\n",
    "    if not len(nome):\n",
    "        break\n",
    "\n",
    "    print(\">\", nome)\n",
    "\n",
    "    if not nome in notas:\n",
    "        print(f'O aluno \"{nome}\" não foi encontrado.')\n",
    "        continue\n",
    "\n",
    "    notas_aluno = notas[nome]\n",
    "    media = sum(notas_aluno) / len(notas_aluno)\n",
    "\n",
    "    print(\n",
    "        f\"Aluno: {nome}\",\n",
    "        f\"Notas: {', '.join(str(nota) for nota in notas_aluno)}\",\n",
    "        f\"Média: {media:.2f}\",\n",
    "        sep=\"\\n\"\n",
    "    )"
   ]
  },
  {
   "cell_type": "markdown",
   "metadata": {},
   "source": [
    "**Exercício 5:** Escreva um programa para armazenar uma agenda de telefones usando um dicionário. Cada pessoa pode ter um ou mais telefones e a chave do dicionário é o                                 \n",
    "nome completo da pessoa. Seu programa deve ter as seguintes funções:\n",
    "\n",
    "*incluir_novo_nome* – essa função acrescenta um novo nome na agenda, com um ou mais telefones. Ela deve receber como argumentos o nome e os telefones. \n",
    "\n",
    "*incluir_telefone* – essa função acrescenta um telefone em um nome existente na agenda. Caso o nome não exista na agenda, você deve perguntar se a pessoa deseja incluí-​lo. Caso a resposta seja afirmativa, use a função anterior para incluir o novo nome.\n",
    "\n",
    "*excluir_nome* – essa função exclui uma pessoa da agenda. \n",
    "\n",
    "*excluir_telefone* – essa função exclui um telefone de uma pessoa que \n",
    "já está na agenda. Se a pessoa tiver apenas um telefone, ela deve ser excluída da agenda.\n",
    "\n",
    "*consultar_telefone* – essa função retorna os telefones de uma pessoa \n",
    "na agenda."
   ]
  },
  {
   "cell_type": "code",
   "execution_count": 14,
   "metadata": {},
   "outputs": [
    {
     "name": "stdout",
     "output_type": "stream",
     "text": [
      "('48993142532', '489847226384')\n",
      "('48958381828', '93982182383', '74983648124')\n",
      "{'josé': ('48993142532', '489847226384'), 'maria': ('48958381828', '93982182383', '74983648124')}\n",
      "{'josé': ('489847226384',)}\n"
     ]
    }
   ],
   "source": [
    "from typing import List, Tuple\n",
    "\n",
    "\n",
    "class Agenda:\n",
    "    def __init__(self):\n",
    "        self.__telefones = {}\n",
    "    \n",
    "    def get_telefones(self):\n",
    "        return {\n",
    "            nome: tuple(telefones)\n",
    "            for nome, telefones in self.__telefones.items()\n",
    "        }\n",
    "    \n",
    "    def incluir_nome(self, nome: str, *telefones: Tuple[str]):\n",
    "        if nome in self.__telefones:\n",
    "            raise ValueError(f'Nome \"{nome}\" já está presente na agenda.')\n",
    "\n",
    "        self.__telefones[nome] = list(telefones)\n",
    "    \n",
    "    def incluir_telefone(self, nome: str, *telefones: Tuple[str], safe_incluir=True):\n",
    "        if not nome in self.__telefones:\n",
    "            if safe_incluir:\n",
    "                self.incluir_nome(nome)\n",
    "            else:\n",
    "                raise ValueError(f'Nome \"{nome}\" não está presente na agenda.')\n",
    "        \n",
    "        self.__telefones[nome].extend(telefones)\n",
    "    \n",
    "    def excluir_nome(self, nome: str):\n",
    "        self.__telefones.pop(nome)\n",
    "    \n",
    "    def excluir_telefone(self, nome: str, *telefones: Tuple[str]):\n",
    "        lista = self.__telefones.get(nome)\n",
    "\n",
    "        if lista is None:\n",
    "            raise ValueError(f'Nome \"{nome}\" não está presente na agenda.')\n",
    "        \n",
    "        for telefone in telefones:\n",
    "            lista.remove(telefone)\n",
    "    \n",
    "    def consultar_telefone(self, nome: str):\n",
    "        lista = self.__telefones.get(nome)\n",
    "\n",
    "        if lista is None:\n",
    "            raise ValueError(f'Nome \"{nome}\" não está presente na agenda.')\n",
    "        \n",
    "        return tuple(lista)\n",
    "\n",
    "\n",
    "if __name__ == \"__main__\":\n",
    "    agenda = Agenda()\n",
    "\n",
    "    agenda.incluir_nome(\"josé\")\n",
    "    agenda.incluir_telefone(\"josé\", \"48993142532\", \"489847226384\")\n",
    "\n",
    "    agenda.incluir_nome(\"maria\", \"48958381828\", \"93982182383\", \"74983648124\")\n",
    "\n",
    "    print(agenda.consultar_telefone(\"josé\"))\n",
    "    print(agenda.consultar_telefone(\"maria\"))\n",
    "\n",
    "    print(agenda.get_telefones())\n",
    "\n",
    "    agenda.excluir_telefone(\"josé\", \"48993142532\")\n",
    "    agenda.excluir_nome(\"maria\")\n",
    "\n",
    "    print(agenda.get_telefones())\n",
    "\n"
   ]
  },
  {
   "cell_type": "markdown",
   "metadata": {},
   "source": [
    "**Exercício 6:** Criar 10 frozensets com 30 números aleatórios cada, e construir um                         \n",
    "dicionário que contenha a soma de cada um deles."
   ]
  },
  {
   "cell_type": "code",
   "execution_count": 1,
   "metadata": {},
   "outputs": [
    {
     "name": "stdout",
     "output_type": "stream",
     "text": [
      "{frozenset({4, 7, 8, 11, 18, 26, 35, 38, 41, 42, 43, 59, 63, 71, 72, 73, 77, 79, 82, 87, 89, 95, 96, 100}): 1316, frozenset({0, 5, 9, 12, 14, 22, 25, 26, 34, 35, 43, 44, 46, 49, 50, 57, 63, 65, 67, 72, 74, 81, 83, 85, 86, 87, 89}): 1323, frozenset({1, 3, 6, 7, 10, 12, 15, 22, 26, 38, 41, 47, 51, 55, 56, 57, 58, 60, 66, 67, 70, 71, 76, 79, 82, 83, 87, 89, 98}): 1433, frozenset({8, 10, 12, 14, 16, 17, 18, 19, 22, 34, 35, 38, 40, 44, 48, 49, 53, 57, 65, 66, 80, 82, 83, 88, 93, 95, 96}): 1282, frozenset({8, 19, 20, 22, 23, 25, 31, 37, 53, 58, 72, 75, 76, 78, 81, 82, 85, 87, 89, 90, 91, 96, 98, 100}): 1496, frozenset({2, 5, 6, 8, 15, 18, 19, 21, 22, 23, 25, 26, 32, 35, 37, 44, 50, 51, 52, 53, 57, 63, 71, 77, 83, 87, 88, 89, 90, 96}): 1345, frozenset({2, 3, 4, 7, 10, 20, 26, 28, 30, 32, 34, 36, 52, 58, 65, 71, 77, 79, 87, 89, 92, 93, 96, 100}): 1191, frozenset({1, 3, 5, 7, 8, 10, 20, 24, 40, 42, 44, 54, 62, 65, 66, 69, 70, 72, 76, 77, 80, 87, 88, 91, 94, 97, 99}): 1451, frozenset({0, 3, 9, 10, 19, 27, 28, 30, 34, 42, 44, 49, 50, 51, 55, 59, 62, 63, 67, 81, 85, 86, 88, 89, 90}): 1221, frozenset({7, 9, 10, 11, 13, 16, 22, 24, 28, 33, 34, 39, 43, 45, 48, 52, 55, 56, 57, 58, 66, 79, 80, 82, 83, 90, 97, 98}): 1335}\n"
     ]
    }
   ],
   "source": [
    "from random import randint\n",
    "\n",
    "conjuntos = []\n",
    "somas = {}\n",
    "\n",
    "for _ in range(10):\n",
    "    conjunto = frozenset(randint(0, 100) for _ in range(30))\n",
    "    conjuntos.append(conjunto)\n",
    "\n",
    "for conjunto in conjuntos:\n",
    "    somas[conjunto] = sum(conjunto)\n",
    "\n",
    "print(somas)"
   ]
  },
  {
   "cell_type": "markdown",
   "metadata": {},
   "source": [
    "**Exercício 7:** Implemente a classe MeuDicionario usando duas listas, uma para chave e                         \n",
    "uma para valores. Deve ser possível inserir, remover e acessar elementos no dicionário                         \n",
    "(use magic methods), além de verificar se um valor encontra-se no dicionário (em caso                           \n",
    "positivo, retorna a chave correspondente, caso contrário retorna False)."
   ]
  },
  {
   "cell_type": "code",
   "execution_count": 28,
   "metadata": {},
   "outputs": [
    {
     "name": "stdout",
     "output_type": "stream",
     "text": [
      "{}\n",
      "231 10\n",
      "{'a':231, 'b':10, 'c':0, 'd':1, 'e':2, 'f':3, 'g':4}\n",
      "a b c d e f g\n",
      "231 10 0 1 2 3 4\n",
      "('a', 231) ('b', 10) ('c', 0) ('d', 1) ('e', 2) ('f', 3) ('g', 4)\n",
      "{'c':0, 'd':1, 'e':2, 'f':3, 'g':4}\n",
      "False\n",
      "True\n"
     ]
    }
   ],
   "source": [
    "class MeuDicionario:\n",
    "    def __init__(self):\n",
    "        self.__chaves = []\n",
    "        self.__valores = []\n",
    "    \n",
    "    def __getitem__(self, chave):\n",
    "        if not chave in self.__chaves:\n",
    "            raise KeyError(f'Key \"{chave}\" not found.')\n",
    "\n",
    "        i = self.__chaves.index(chave)\n",
    "        return self.__valores[i]\n",
    "    \n",
    "    def __setitem__(self, chave, valor):\n",
    "        if not chave in self.__chaves:\n",
    "            self.__chaves.append(chave)\n",
    "            self.__valores.append(None)\n",
    "        \n",
    "        i = self.__chaves.index(chave)\n",
    "        self.__valores[i] = valor\n",
    "    \n",
    "    def __contains__(self, chave):\n",
    "        return chave in self.__chaves\n",
    "    \n",
    "    def __delitem__(self, chave):\n",
    "        return self.pop(chave)\n",
    "    \n",
    "    def __str__(self):\n",
    "        return (\n",
    "            \"{\" +\n",
    "            \", \".join(\n",
    "                f\"{repr(chave)}:{repr(valor)}\" for chave, valor in self.items()\n",
    "            ) +\n",
    "            \"}\"\n",
    "        )\n",
    "    \n",
    "    def pop(self, chave, default=None):\n",
    "        if not chave in self.__chaves:\n",
    "            if default is None:\n",
    "                raise KeyError(f'Key \"{chave}\" not found.')\n",
    "            \n",
    "            return default\n",
    "        \n",
    "        i = self.__chaves.index(chave)\n",
    "        self.__chaves.pop(i)\n",
    "        valor = self.__valores.pop(i)\n",
    "\n",
    "        return valor\n",
    "    \n",
    "    def keys(self):\n",
    "        return (chave for chave in self.__chaves)\n",
    "\n",
    "    def values(self):\n",
    "        return (valor for valor in self.__valores)\n",
    "\n",
    "    def items(self):\n",
    "        return (\n",
    "            (chave, valor) for chave, valor in zip(self.__chaves, self.__valores)\n",
    "        )\n",
    "\n",
    "if __name__ == \"__main__\":\n",
    "    d = MeuDicionario()\n",
    "    print(d)\n",
    "\n",
    "    d[\"a\"] = 231\n",
    "    d[\"b\"] = 10\n",
    "\n",
    "    print(d[\"a\"], d[\"b\"])\n",
    "\n",
    "    for i, l in enumerate((\"c\", \"d\", \"e\", \"f\", \"g\")):\n",
    "        d[l] = i\n",
    "\n",
    "    print(d)\n",
    "\n",
    "    print(*d.keys())\n",
    "    print(*d.values())\n",
    "    print(*d.items())\n",
    "\n",
    "    del d[\"a\"]\n",
    "    d.pop(\"b\")\n",
    "\n",
    "    print(d)\n",
    "\n",
    "    print(\"a\" in d)\n",
    "    print(\"c\" in d)\n"
   ]
  }
 ],
 "metadata": {
  "kernelspec": {
   "display_name": "Python 3.10.4 64-bit",
   "language": "python",
   "name": "python3"
  },
  "language_info": {
   "codemirror_mode": {
    "name": "ipython",
    "version": 3
   },
   "file_extension": ".py",
   "mimetype": "text/x-python",
   "name": "python",
   "nbconvert_exporter": "python",
   "pygments_lexer": "ipython3",
   "version": "3.10.4"
  },
  "orig_nbformat": 4,
  "vscode": {
   "interpreter": {
    "hash": "916dbcbb3f70747c44a77c7bcd40155683ae19c65e1c03b4aa3499c5328201f1"
   }
  }
 },
 "nbformat": 4,
 "nbformat_minor": 2
}
