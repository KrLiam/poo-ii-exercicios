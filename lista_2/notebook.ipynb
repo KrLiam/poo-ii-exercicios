{
 "cells": [
  {
   "cell_type": "markdown",
   "metadata": {},
   "source": [
    "# <center> Lista de Exercícios 2"
   ]
  },
  {
   "cell_type": "markdown",
   "metadata": {},
   "source": [
    "**Exercício 1.** Faça um Programa que leia um vetor de 5 números inteiros e mostre-os."
   ]
  },
  {
   "cell_type": "code",
   "execution_count": 4,
   "metadata": {},
   "outputs": [
    {
     "name": "stdout",
     "output_type": "stream",
     "text": [
      "6 4 4 6 3\n"
     ]
    }
   ],
   "source": [
    "nums = []\n",
    "\n",
    "while len(nums) < 5:\n",
    "    num = input(\"Digite um número inteiro\")\n",
    "    if num.isdigit():\n",
    "        nums.append(int(num))\n",
    "\n",
    "print(*nums, sep=\" \")"
   ]
  },
  {
   "cell_type": "markdown",
   "metadata": {},
   "source": [
    "**Exercício 2.** ​Faça um Programa que leia um vetor de 10 números reais e mostre-os na \n",
    "ordem inversa."
   ]
  },
  {
   "cell_type": "code",
   "execution_count": 1,
   "metadata": {},
   "outputs": [
    {
     "name": "stdout",
     "output_type": "stream",
     "text": [
      "3.0 2.0 3.0 5.0 3.0 2.0 3.0 5.0 4.0 8.0\n"
     ]
    }
   ],
   "source": [
    "nums = []\n",
    "\n",
    "while len(nums) < 10:\n",
    "    num = input(\"Digite um número real:\")\n",
    "    try:\n",
    "        nums.append(float(num))\n",
    "    except (ValueError, OverflowError):\n",
    "        pass\n",
    "\n",
    "print(*nums[::-1], sep=\" \")"
   ]
  },
  {
   "cell_type": "markdown",
   "metadata": {},
   "source": [
    "**Exercício 3.** Faça um Programa que leia 4 notas, mostre as notas e a média na tela."
   ]
  },
  {
   "cell_type": "code",
   "execution_count": 3,
   "metadata": {},
   "outputs": [
    {
     "name": "stdout",
     "output_type": "stream",
     "text": [
      "notas:, 5.75, 3.0, 9.0, 8.0\n",
      "média: 6.4375\n"
     ]
    }
   ],
   "source": [
    "def is_float(num):\n",
    "    return nota.replace(\".\", \"\", 1).isdigit()\n",
    "\n",
    "notas = []\n",
    "\n",
    "while len(notas) < 4:\n",
    "    nota = input(\"Insira uma nota: \")\n",
    "\n",
    "    if is_float(nota):\n",
    "        nota = float(nota)\n",
    "\n",
    "        if not (0 <= nota <= 10):\n",
    "            print(\"O valor deve estar entre 0 e 10\")\n",
    "            continue\n",
    "        \n",
    "        notas.append(nota)\n",
    "\n",
    "media = sum(notas) / len(notas)\n",
    "\n",
    "print(\"notas:\", *notas, sep=\", \")\n",
    "print(\"média:\", media)"
   ]
  },
  {
   "cell_type": "markdown",
   "metadata": {},
   "source": [
    "**Exercício 5.** Faça um Programa que leia 20 números inteiros e armazene-os num \n",
    "vetor. Armazene os números pares no vetor PAR e os números IMPARES no vetor \n",
    "impar. Imprima os três vetores."
   ]
  },
  {
   "cell_type": "code",
   "execution_count": 2,
   "metadata": {},
   "outputs": [
    {
     "name": "stdout",
     "output_type": "stream",
     "text": [
      "todos: [3, 18, 4, 2, 1, 42, 7, 49, 11, 28, 9, 6, 9, 4, 7, 2, 9, 3, 9, 2]\n",
      "impares: [3, 1, 7, 49, 11, 9, 9, 7, 9, 3, 9]\n",
      "pares: [18, 4, 2, 42, 28, 6, 4, 2, 2]\n"
     ]
    }
   ],
   "source": [
    "vetor = []\n",
    "\n",
    "while len(vetor) < 20:\n",
    "    restantes = 20 - len(vetor)\n",
    "    valores = input(f\"Digite {restantes} inteiros: \").split()\n",
    "\n",
    "    for valor in valores:\n",
    "        if not valor.isdigit():\n",
    "            print(f\"'{valor}' não é um inteiro válido.\")\n",
    "            continue\n",
    "\n",
    "        vetor.append(int(valor))\n",
    "\n",
    "pares, impares = [], []\n",
    "for valor in vetor:\n",
    "    if valor % 2:\n",
    "        impares.append(valor)\n",
    "    else:\n",
    "        pares.append(valor)\n",
    "\n",
    "print(\"todos:\", vetor)\n",
    "print(\"impares:\", impares)\n",
    "print(\"pares:\", pares)"
   ]
  },
  {
   "cell_type": "markdown",
   "metadata": {},
   "source": [
    "**Exercício 9.** Faça um Programa que leia um vetor A com 10 números inteiros, calcule \n",
    "e mostre a soma dos quadrados dos elementos do vetor."
   ]
  },
  {
   "cell_type": "code",
   "execution_count": 15,
   "metadata": {},
   "outputs": [
    {
     "name": "stdout",
     "output_type": "stream",
     "text": [
      "[19, 28, 84, 26, 10, 75, 82, 6, 19, 2]\n",
      "21727\n"
     ]
    }
   ],
   "source": [
    "entrada = input(\"Digite 10 números separados por espaço: \")\n",
    "vetor = [int(x) for x in entrada.split()]\n",
    "\n",
    "soma = sum(x**2 for x in vetor)\n",
    "\n",
    "print(vetor)\n",
    "print(soma)"
   ]
  },
  {
   "cell_type": "markdown",
   "metadata": {},
   "source": [
    "**Exercício 10.** Faça um Programa que leia dois vetores com 10 elementos cada. Gere \n",
    "um terceiro vetor de 20 elementos, cujos valores deverão ser compostos pelos \n",
    "elementos intercalados dos dois outros vetores."
   ]
  },
  {
   "cell_type": "code",
   "execution_count": 3,
   "metadata": {},
   "outputs": [
    {
     "name": "stdout",
     "output_type": "stream",
     "text": [
      "Vetor A: (1.0, 9.0, 3.0, 2.0, 9.0, 4.0, 9.0, 1.0, 2.0, 4.0)\n",
      "Vetor B: (2.0, 9.0, 1.0, 2.0, 8.0, 4.0, 2.0, 1.0, 9.0, 4.0)\n",
      "Vetor C: (1.0, 3.0, 9.0, 9.0, 2.0, 2.0, 1.0, 8.0, 2.0, 9.0)\n"
     ]
    }
   ],
   "source": [
    "def pedir_vetor(n):\n",
    "    while True:\n",
    "        entrada = input(f\"Digite {n} números separados por espaço: \").split()\n",
    "\n",
    "        if len(entrada) == n:\n",
    "            break\n",
    "\n",
    "    return tuple(float(x) for x in entrada)\n",
    "\n",
    "vetor_a = pedir_vetor(10)\n",
    "vetor_b = pedir_vetor(10)\n",
    "\n",
    "vetor_c = vetor_a[::2] + vetor_b[::2]\n",
    "\n",
    "print(\"Vetor A:\", vetor_a)\n",
    "print(\"Vetor B:\", vetor_b)\n",
    "print(\"Vetor C:\", vetor_c)"
   ]
  },
  {
   "cell_type": "markdown",
   "metadata": {},
   "source": [
    "**Exercício 12.** ​Foram anotadas as idades e alturas de 30 alunos. Faça um Programa \n",
    "que determine quantos alunos com mais de 13 anos possuem altura inferior à média de \n",
    "altura desses alunos."
   ]
  },
  {
   "cell_type": "code",
   "execution_count": 12,
   "metadata": {},
   "outputs": [
    {
     "name": "stdout",
     "output_type": "stream",
     "text": [
      "\"maria antonia\", 13y, 1.63m\n",
      "\"kellyn\", 12y, 1.52m\n",
      "\"vinicius\", 15y, 1.68m\n",
      "\"otavio\", 10y, 1.54m\n",
      "\"kerlaine\", 11y, 1.52m\n",
      "\"daniel\", 13y, 1.65m\n",
      "\"juliano\", 20y, 1.79m\n",
      "\"talita\", 19y, 1.74m\n",
      "\"renata\", 11y, 1.71m\n",
      "\"valdete\", 12y, 1.63m\n",
      "\"larissa\", 14y, 1.65m\n",
      "\"sebastião\", 29y, 1.74m\n",
      "\"hugo\", 15y, 1.67m\n",
      "\"cecilia\", 11y, 1.47m\n",
      "\"joão carlos\", 7y, 1.52m\n",
      "\"pedro antonio\", 12y, 1.65m\n",
      "\"gustavo\", 16y, 1.73m\n",
      "\"ana julia\", 12y, 1.63m\n",
      "\"maria eduarda\", 16y, 1.67m\n",
      "\"gabriel\", 15y, 1.73m\n",
      "\"isabela\", 20y, 1.65m\n",
      "\"ana carolina\", 23y, 1.68m\n",
      "\"patricia\", 13y, 1.49m\n",
      "\"mateus\", 18y, 1.74m\n",
      "\"fernando\", 8y, 1.54m\n",
      "\"carlos eduardo\", 12y, 1.61m\n",
      "\"antonio\", 15y, 1.69m\n",
      "\"pedro\", 20y, 1.74m\n",
      "\"joão\", 19y, 1.72m\n",
      "\"mario\", 14y, 1.68m\n",
      "Altura média: 1.65m\n",
      "maria antonia, kellyn, otavio, kerlaine, valdete, cecilia, joão carlos, ana julia, patricia, fernando, carlos eduardo possuem altura abaixo da média\n"
     ]
    }
   ],
   "source": [
    "from typing import Union\n",
    "\n",
    "\n",
    "class Aluno:\n",
    "    def __init__(self, nome: str, idade: int, altura: Union[int, float]):\n",
    "        # 1.75 e 175 estão em metros e centímetros, respectivamente\n",
    "        altura = int(altura * 100 if altura < 10 else altura)\n",
    "\n",
    "        self.nome = nome\n",
    "        self.idade = idade\n",
    "        self.altura = altura\n",
    "    \n",
    "    def __str__(self):\n",
    "        return f'\"{self.nome}\", {self.idade}y, {self.altura/100}m'\n",
    "\n",
    "alunos = []\n",
    "\n",
    "while len(alunos) < 30:\n",
    "    entrada = input(\"Insira nome, idade e altura: \")\n",
    "    left, _, altura = entrada.rpartition(\" \")\n",
    "    nome, _, idade = left.rpartition(\" \")\n",
    "\n",
    "    nome = nome.strip().lower()\n",
    "\n",
    "    if not nome:\n",
    "        continue\n",
    "\n",
    "    try:\n",
    "        aluno = Aluno(nome, int(idade), float(altura))\n",
    "    except ValueError:\n",
    "        continue\n",
    "\n",
    "    alunos.append(aluno)\n",
    "\n",
    "for aluno in alunos:\n",
    "    print(aluno)\n",
    "\n",
    "altura_media = sum(aluno.altura for aluno in alunos) / len(alunos)\n",
    "\n",
    "print(f\"Altura média: {altura_media / 100:.2f}m\")\n",
    "\n",
    "alunos_abaixo_da_media = [aluno for aluno in alunos if aluno.altura < altura_media]\n",
    "\n",
    "print(*(aluno.nome for aluno in alunos_abaixo_da_media), sep=\", \", end=\" \")\n",
    "    \n",
    "if not len(alunos_abaixo_da_media):\n",
    "    print(\"ninguém\", end=\" \")\n",
    "\n",
    "print(f\"{'possuem' if len(alunos_abaixo_da_media) > 1 else 'possui'} altura abaixo da média\")"
   ]
  },
  {
   "cell_type": "markdown",
   "metadata": {},
   "source": [
    "**Exercício 13.** Faça um programa que receba a temperatura média de cada mês do ano \n",
    "e armazene-as em uma lista. Após isto, calcule a média anual das temperaturas e \n",
    "mostre todas as temperaturas acima da média anual, e em que mês elas ocorreram \n",
    "(mostrar o mês por extenso: 1 – Janeiro, 2 – Fevereiro, . . . )."
   ]
  },
  {
   "cell_type": "code",
   "execution_count": 9,
   "metadata": {},
   "outputs": [
    {
     "name": "stdout",
     "output_type": "stream",
     "text": [
      "Temperaturas: \n",
      "- Janeiro: 39.0°C \n",
      "- Fevereiro: 32.0°C \n",
      "- Março: 28.0°C \n",
      "- Abril: 24.0°C \n",
      "- Maio: 16.0°C \n",
      "- Junho: 4.0°C \n",
      "- Julho: -4.0°C \n",
      "- Agosto: 3.0°C \n",
      "- Setembro: 17.0°C \n",
      "- Outubro: 28.0°C \n",
      "- Novembro: 31.0°C \n",
      "- Dezembro: 37.0°C\n",
      "\n",
      "Temperatura média: 21.25°C\n",
      "Janeiro, 17.75°C acima da média. \n",
      "Fevereiro, 10.75°C acima da média. \n",
      "Março, 6.75°C acima da média. \n",
      "Abril, 2.75°C acima da média. \n",
      "Outubro, 6.75°C acima da média. \n",
      "Novembro, 9.75°C acima da média. \n",
      "Dezembro, 15.75°C acima da média. \n"
     ]
    }
   ],
   "source": [
    "MESES = [\n",
    "    \"Janeiro\",\n",
    "    \"Fevereiro\",\n",
    "    \"Março\",\n",
    "    \"Abril\",\n",
    "    \"Maio\",\n",
    "    \"Junho\",\n",
    "    \"Julho\",\n",
    "    \"Agosto\",\n",
    "    \"Setembro\",\n",
    "    \"Outubro\",\n",
    "    \"Novembro\",\n",
    "    \"Dezembro\"\n",
    "]\n",
    "\n",
    "while True:\n",
    "    entrada = input(\"Digite as temperaturas dos 12 meses: \").split()\n",
    "\n",
    "    if len(entrada) == 12:\n",
    "        break\n",
    "\n",
    "temp_meses = [float(t) for t in entrada]\n",
    "\n",
    "temp_media = sum(temp_meses) / 12\n",
    "\n",
    "print(\"Temperaturas:\", *(f\"\\n- {MESES[i]}: {temp}°C\" for i, temp in enumerate(temp_meses)) )\n",
    "print(f\"\\nTemperatura média: {temp_media:.2f}°C\")\n",
    "\n",
    "for i, temp in enumerate(temp_meses):\n",
    "    if temp > temp_media:\n",
    "        print(f\"{MESES[i]}, {temp - temp_media:.2f}°C acima da média. \")"
   ]
  },
  {
   "cell_type": "markdown",
   "metadata": {},
   "source": [
    "**Exercício 14.** ​Utilizando listas faça um programa que faça 5 perguntas para uma \n",
    "pessoa sobre um crime. As perguntas são: \n",
    "- \"Telefonou para a vítima?\" \n",
    "- \"Esteve no local do crime?\" \n",
    "- \"Mora perto da vítima?\" \n",
    "- \"Devia para a vítima?\" \n",
    "- \"Já trabalhou com a vítima?\"\n",
    "\n",
    "O programa deve no final emitir uma classificação sobre a participação da pessoa no \n",
    "crime. Se a pessoa responder positivamente a 2 questões ela deve ser classificada \n",
    "como \"Suspeita\", entre 3 e 4 como \"Cúmplice\" e 5 como \"Assassino\". Caso contrário, \n",
    "ele será classificado como \"Inocente\"."
   ]
  },
  {
   "cell_type": "code",
   "execution_count": 17,
   "metadata": {},
   "outputs": [
    {
     "name": "stdout",
     "output_type": "stream",
     "text": [
      "Telefonou para a vítima? n\n",
      "Esteve no local do crime? s\n",
      "Mora perto da vítima? s\n",
      "Devia para a vítima? n\n",
      "Já trabalhou com a vítima? s\n",
      "Você é Cúmplice\n"
     ]
    }
   ],
   "source": [
    "PERGUNTAS = [\n",
    "    \"Telefonou para a vítima?\",\n",
    "    \"Esteve no local do crime?\",\n",
    "    \"Mora perto da vítima?\",\n",
    "    \"Devia para a vítima?\",\n",
    "    \"Já trabalhou com a vítima?\"\n",
    "]\n",
    "\n",
    "CLASSIFICACAO = [\n",
    "    \"Inocente\",\n",
    "    \"Inocente\",\n",
    "    \"Suspeita\",\n",
    "    \"Cúmplice\",\n",
    "    \"Cúmplice\",\n",
    "    \"Assassino\"\n",
    "]\n",
    "\n",
    "respostas_positivas = 0\n",
    "\n",
    "for pergunta in PERGUNTAS:\n",
    "    while True:\n",
    "        resposta = input(f\"{pergunta}\\n[S/N]: \").lower()\n",
    "\n",
    "        if resposta in (\"s, n\"):\n",
    "            break\n",
    "    \n",
    "    if resposta == \"s\":\n",
    "        respostas_positivas += 1\n",
    "    \n",
    "    print(pergunta, resposta)\n",
    "\n",
    "print(\"Você é\", CLASSIFICACAO[respostas_positivas])"
   ]
  },
  {
   "cell_type": "markdown",
   "metadata": {},
   "source": [
    "**Exercício 20.** Criar um tipo de dado (classe) MinhaLista que possui o comportamento \n",
    "de uma lista builtin mas é implementada usando tuplas. O novo tipo de dado deve \n",
    "permitir atribuição e acesso aos elementos da lista, e conter os seguintes métodos:\n",
    "\n",
    "- append()\n",
    "- remove(element)\n",
    "- sort()\n",
    "- reverse()\n",
    "- pop(index=-1)\n",
    "\n",
    "*dica: usar magic methods"
   ]
  },
  {
   "cell_type": "code",
   "execution_count": 18,
   "metadata": {},
   "outputs": [
    {
     "name": "stdout",
     "output_type": "stream",
     "text": [
      "(9, 10, -5, 10)\n",
      "(9, -5, 10)\n",
      "[-5, 9, 10]\n",
      "(9, 8, 8, 8)\n",
      "(9, 8, 7, 6)\n",
      "9\n",
      "(7, 6)\n"
     ]
    }
   ],
   "source": [
    "class MinhaLista:\n",
    "    def __init__(self, tupla = ()):\n",
    "        self.__valores = tupla\n",
    "    \n",
    "    def append(self, valor):\n",
    "        self.__valores = (*self.__valores, valor)\n",
    "\n",
    "    def remove(self, valor):\n",
    "        r = []\n",
    "        removeu = False\n",
    "\n",
    "        for x in self.__valores:\n",
    "            if x == valor and not removeu:\n",
    "                removeu = True\n",
    "                continue\n",
    "\n",
    "            r.append(x)\n",
    "\n",
    "        self.__valores = tuple(r)\n",
    "\n",
    "    def sort(self):\n",
    "        self.__valores = sorted(self.__valores)\n",
    "\n",
    "    def reverse(self):\n",
    "        self.__valores = self.__valores[::-1]\n",
    "\n",
    "    def pop(self, index=-1):\n",
    "        r = []\n",
    "\n",
    "        if index < 0:\n",
    "            index = len(self.__valores) + index\n",
    "\n",
    "        for i, x in enumerate(self.__valores):\n",
    "            if i != index:\n",
    "                r.append(x)\n",
    "\n",
    "        self.__valores = tuple(r)\n",
    "    \n",
    "    def __str__(self):\n",
    "        return str(self.__valores)\n",
    "    \n",
    "    def __setitem__(self, index, valor):\n",
    "        r = []\n",
    "\n",
    "        if index < 0:\n",
    "            index = len(self.__valores) + index\n",
    "\n",
    "        for i, x in enumerate(self.__valores):\n",
    "            r.append(valor if i == index else x)\n",
    "\n",
    "        self.__valores = tuple(r)\n",
    "    \n",
    "    def __getitem__(self, key):\n",
    "        return self.__valores[key]\n",
    "\n",
    "l = MinhaLista()\n",
    "\n",
    "l.append(9)\n",
    "l.append(10)\n",
    "l.append(-5)\n",
    "l.append(10)\n",
    "\n",
    "print(l)\n",
    "\n",
    "l.remove(10)\n",
    "\n",
    "print(l)\n",
    "\n",
    "[].reverse\n",
    "\n",
    "l.sort()\n",
    "\n",
    "print(l)\n",
    "\n",
    "l.pop(-1)\n",
    "l.pop(0)\n",
    "\n",
    "l.append(8)\n",
    "l.append(8)\n",
    "l.append(8)\n",
    "\n",
    "print(l)\n",
    "\n",
    "l[2] = 7\n",
    "l[-1] = 6\n",
    "\n",
    "print(l)\n",
    "\n",
    "print(l[0])\n",
    "print(l[2:])"
   ]
  }
 ],
 "metadata": {
  "kernelspec": {
   "display_name": "Python 3.10.4 64-bit",
   "language": "python",
   "name": "python3"
  },
  "language_info": {
   "codemirror_mode": {
    "name": "ipython",
    "version": 3
   },
   "file_extension": ".py",
   "mimetype": "text/x-python",
   "name": "python",
   "nbconvert_exporter": "python",
   "pygments_lexer": "ipython3",
   "version": "3.10.4"
  },
  "orig_nbformat": 4,
  "vscode": {
   "interpreter": {
    "hash": "916dbcbb3f70747c44a77c7bcd40155683ae19c65e1c03b4aa3499c5328201f1"
   }
  }
 },
 "nbformat": 4,
 "nbformat_minor": 2
}
