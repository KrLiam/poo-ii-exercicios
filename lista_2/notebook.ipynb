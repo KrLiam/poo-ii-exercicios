{
 "cells": [
  {
   "cell_type": "markdown",
   "metadata": {},
   "source": [
    "# <center> Lista de Exercícios 2"
   ]
  },
  {
   "cell_type": "markdown",
   "metadata": {},
   "source": [
    "**Exercício 1.** Faça um Programa que leia um vetor de 5 números inteiros e mostre-os."
   ]
  },
  {
   "cell_type": "code",
   "execution_count": 4,
   "metadata": {},
   "outputs": [
    {
     "name": "stdout",
     "output_type": "stream",
     "text": [
      "6 4 4 6 3\n"
     ]
    }
   ],
   "source": [
    "nums = []\n",
    "\n",
    "while len(nums) < 5:\n",
    "    num = input(\"Digite um número inteiro\")\n",
    "    if num.isdigit():\n",
    "        nums.append(int(num))\n",
    "\n",
    "print(*nums, sep=\" \")"
   ]
  },
  {
   "cell_type": "markdown",
   "metadata": {},
   "source": [
    "**Exercício 2.** ​Faça um Programa que leia um vetor de 10 números reais e mostre-os na \n",
    "ordem inversa."
   ]
  },
  {
   "cell_type": "code",
   "execution_count": 1,
   "metadata": {},
   "outputs": [
    {
     "name": "stdout",
     "output_type": "stream",
     "text": [
      "3.0 2.0 3.0 5.0 3.0 2.0 3.0 5.0 4.0 8.0\n"
     ]
    }
   ],
   "source": [
    "nums = []\n",
    "\n",
    "while len(nums) < 10:\n",
    "    num = input(\"Digite um número real:\")\n",
    "    try:\n",
    "        nums.append(float(num))\n",
    "    except (ValueError, OverflowError):\n",
    "        pass\n",
    "\n",
    "print(*nums[::-1], sep=\" \")"
   ]
  },
  {
   "cell_type": "markdown",
   "metadata": {},
   "source": [
    "**Exercício 3.** Faça um Programa que leia 4 notas, mostre as notas e a média na tela."
   ]
  },
  {
   "cell_type": "code",
   "execution_count": 3,
   "metadata": {},
   "outputs": [
    {
     "name": "stdout",
     "output_type": "stream",
     "text": [
      "notas:, 5.75, 3.0, 9.0, 8.0\n",
      "média: 6.4375\n"
     ]
    }
   ],
   "source": [
    "def is_float(num):\n",
    "    return nota.replace(\".\", \"\", 1).isdigit()\n",
    "\n",
    "notas = []\n",
    "\n",
    "while len(notas) < 4:\n",
    "    nota = input(\"Insira uma nota: \")\n",
    "\n",
    "    if is_float(nota):\n",
    "        nota = float(nota)\n",
    "\n",
    "        if not (0 <= nota <= 10):\n",
    "            print(\"O valor deve estar entre 0 e 10\")\n",
    "            continue\n",
    "        \n",
    "        notas.append(nota)\n",
    "\n",
    "media = sum(notas) / len(notas)\n",
    "\n",
    "print(\"notas:\", *notas, sep=\", \")\n",
    "print(\"média:\", media)"
   ]
  },
  {
   "cell_type": "markdown",
   "metadata": {},
   "source": [
    "**Exercício 5.** Faça um Programa que leia 20 números inteiros e armazene-os num \n",
    "vetor. Armazene os números pares no vetor PAR e os números IMPARES no vetor \n",
    "impar. Imprima os três vetores."
   ]
  },
  {
   "cell_type": "code",
   "execution_count": null,
   "metadata": {},
   "outputs": [],
   "source": [
    "vetor = []\n",
    "\n",
    "while len(vetor) < 20:\n",
    "    restantes = 20 - len(vetor)\n",
    "    valores = input(f\"Digite {restantes} inteiros: \").split()\n",
    "\n",
    "    for valor in valores:\n",
    "        if not valor.isdigit():\n",
    "            print(f\"'{valor}' não é um inteiro válido.\")\n",
    "            continue\n",
    "\n",
    "        vetor.append(int(valor))\n"
   ]
  }
 ],
 "metadata": {
  "interpreter": {
   "hash": "916dbcbb3f70747c44a77c7bcd40155683ae19c65e1c03b4aa3499c5328201f1"
  },
  "kernelspec": {
   "display_name": "Python 3.8.10 64-bit",
   "language": "python",
   "name": "python3"
  },
  "language_info": {
   "codemirror_mode": {
    "name": "ipython",
    "version": 3
   },
   "file_extension": ".py",
   "mimetype": "text/x-python",
   "name": "python",
   "nbconvert_exporter": "python",
   "pygments_lexer": "ipython3",
   "version": "3.8.10"
  },
  "orig_nbformat": 4
 },
 "nbformat": 4,
 "nbformat_minor": 2
}
